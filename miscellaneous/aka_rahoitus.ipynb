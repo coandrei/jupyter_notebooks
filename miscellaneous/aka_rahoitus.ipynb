{
 "cells": [
  {
   "cell_type": "code",
   "execution_count": 1,
   "metadata": {},
   "outputs": [],
   "source": [
    "# This notebook searches the AKA database \n",
    "# 1) the total amount of funding a researcher has received during from AKA\n",
    "# 2) the list of researchers who have received funding for a specific research field\n",
    "# 3) the number of Google citations for a list of researchers\n",
    "# \n",
    "# Octavian Andrei, 2020"
   ]
  },
  {
   "cell_type": "code",
   "execution_count": 2,
   "metadata": {},
   "outputs": [],
   "source": [
    "import numpy as np\n",
    "import pandas as pd\n",
    "from matplotlib import pyplot as plt"
   ]
  },
  {
   "cell_type": "code",
   "execution_count": 3,
   "metadata": {},
   "outputs": [],
   "source": [
    "# template report\n",
    "AKA_REPORT = {\n",
    "    'ekaLataus': 0,\n",
    "    'IBIF_ex' : 'x_RahPaatYht_report2',\n",
    "    'UILANG': 'en',\n",
    "    'SANAHAKU': '',\n",
    "    'ETUNIMI': '',\n",
    "    'SUKUNIMI': '',\n",
    "    'SUKUPUOLI': 'FOC_NONE',\n",
    "    'HAKU': 'FOC_NONE',\n",
    "    'ORGANIS': 'FOC_NONE',\n",
    "    'TUTKDI': 'FOC_NONE',\n",
    "    'TMK': '',\n",
    "    'PAATVUOSI_A': 2001,\n",
    "    'PAATVUOSI_L': 2020,\n",
    "    'LAJITTELU': 'PAATOS',\n",
    "    'TULOSTE': 'HTML',\n",
    "}\n",
    "\n",
    "# customized functions\n",
    "def get_html(kwargs):\n",
    "    # base url\n",
    "    url = 'https://akareport.aka.fi/ibi_apps/WFServlet?'\n",
    "    # add the query\n",
    "    url += '&'.join(['{}={}'.format(k,v) for k,v in kwargs.items()])\n",
    "    \n",
    "    return url\n",
    "\n",
    "def get_funding_info(kwargs):\n",
    "    # fetch the report\n",
    "    url = get_html(kwargs)\n",
    "    \n",
    "    # data frame with the funding decisions\n",
    "    try:\n",
    "        data = pd.read_html(url, encoding='utf-8')[0]\n",
    "        data = data.dropna(axis=0, how='all').reset_index(drop=True)  \n",
    "    except:\n",
    "        import requests\n",
    "        r = requests.get(url)\n",
    "        fout = 'tmp'\n",
    "        open(fout, 'wb').write(r.content)\n",
    "        if d['TULOSTE'] == 'HTML':\n",
    "            data = pd.read_html(fout)[0]\n",
    "            data = data.dropna(axis=0, how='all').reset_index(drop=True)\n",
    "        elif d['TULOSTE'] == 'EXL07':\n",
    "            data = pd.read_excel(fout)\n",
    "        else:\n",
    "            pass\n",
    "        import os\n",
    "        os.remove(fout)\n",
    "    \n",
    "    return url, data\n"
   ]
  },
  {
   "cell_type": "code",
   "execution_count": null,
   "metadata": {},
   "outputs": [],
   "source": []
  },
  {
   "cell_type": "markdown",
   "metadata": {},
   "source": [
    "# Total amount of funding by researcher"
   ]
  },
  {
   "cell_type": "code",
   "execution_count": 4,
   "metadata": {},
   "outputs": [
    {
     "name": "stdout",
     "output_type": "stream",
     "text": [
      "https://akareport.aka.fi/ibi_apps/WFServlet?ekaLataus=0&IBIF_ex=x_RahPaatYht_report2&UILANG=en&SANAHAKU=&ETUNIMI=Antti&SUKUNIMI=Ylä-Jääski&SUKUPUOLI=FOC_NONE&HAKU=FOC_NONE&ORGANIS=FOC_NONE&TUTKDI=FOC_NONE&TMK=&PAATVUOSI_A=2001&PAATVUOSI_L=2020&LAJITTELU=PAATOS&TULOSTE=HTML\n",
      "Antti Ylä-Jääski 857 340 €\n",
      "==========\n",
      "\n",
      "https://akareport.aka.fi/ibi_apps/WFServlet?ekaLataus=0&IBIF_ex=x_RahPaatYht_report2&UILANG=en&SANAHAKU=&ETUNIMI=Markus&SUKUNIMI=Kirjonen&SUKUPUOLI=FOC_NONE&HAKU=FOC_NONE&ORGANIS=FOC_NONE&TUTKDI=FOC_NONE&TMK=&PAATVUOSI_A=2001&PAATVUOSI_L=2020&LAJITTELU=PAATOS&TULOSTE=HTML\n",
      "Markus Kirjonen None\n",
      "==========\n",
      "\n",
      "https://akareport.aka.fi/ibi_apps/WFServlet?ekaLataus=0&IBIF_ex=x_RahPaatYht_report2&UILANG=en&SANAHAKU=&ETUNIMI=Samuel&SUKUNIMI=Kaski&SUKUPUOLI=FOC_NONE&HAKU=FOC_NONE&ORGANIS=FOC_NONE&TUTKDI=FOC_NONE&TMK=&PAATVUOSI_A=2001&PAATVUOSI_L=2020&LAJITTELU=PAATOS&TULOSTE=HTML\n",
      "Samuel Kaski 8 901 901 €\n",
      "==========\n",
      "\n",
      "https://akareport.aka.fi/ibi_apps/WFServlet?ekaLataus=0&IBIF_ex=x_RahPaatYht_report2&UILANG=en&SANAHAKU=&ETUNIMI=Tapio&SUKUNIMI=Takala&SUKUPUOLI=FOC_NONE&HAKU=FOC_NONE&ORGANIS=FOC_NONE&TUTKDI=FOC_NONE&TMK=&PAATVUOSI_A=2001&PAATVUOSI_L=2020&LAJITTELU=PAATOS&TULOSTE=HTML\n",
      "Tapio Takala 741 922 €\n",
      "==========\n",
      "\n",
      "https://akareport.aka.fi/ibi_apps/WFServlet?ekaLataus=0&IBIF_ex=x_RahPaatYht_report2&UILANG=en&SANAHAKU=&ETUNIMI=Alexander&SUKUNIMI=Jung&SUKUPUOLI=FOC_NONE&HAKU=FOC_NONE&ORGANIS=FOC_NONE&TUTKDI=FOC_NONE&TMK=&PAATVUOSI_A=2001&PAATVUOSI_L=2020&LAJITTELU=PAATOS&TULOSTE=HTML\n",
      "Alexander Jung None\n",
      "==========\n",
      "\n",
      "https://akareport.aka.fi/ibi_apps/WFServlet?ekaLataus=0&IBIF_ex=x_RahPaatYht_report2&UILANG=en&SANAHAKU=&ETUNIMI=Kaisa&SUKUNIMI=Nyberg&SUKUPUOLI=FOC_NONE&HAKU=FOC_NONE&ORGANIS=FOC_NONE&TUTKDI=FOC_NONE&TMK=&PAATVUOSI_A=2001&PAATVUOSI_L=2020&LAJITTELU=PAATOS&TULOSTE=HTML\n",
      "Kaisa Nyberg 664 957 €\n",
      "==========\n",
      "\n"
     ]
    }
   ],
   "source": [
    "researchers = (\n",
    "    ('Antti', 'Ylä-Jääski'),\n",
    "    ('Markus', 'Kirjonen'),\n",
    "    ('Samuel', 'Kaski'),\n",
    "    ('Tapio', 'Takala'),\n",
    "    ('Alexander', 'Jung'),\n",
    "    ('Kaisa', 'Nyberg'),\n",
    ")\n",
    "\n",
    "for researcher in researchers:\n",
    "    etunimi, sukunimi = researcher\n",
    "    \n",
    "    d = dict(AKA_REPORT)\n",
    "    d['ETUNIMI'] = etunimi\n",
    "    d['SUKUNIMI'] = sukunimi\n",
    "    \n",
    "    html, data = get_funding_info(d)\n",
    "    print(html)\n",
    "    \n",
    "    mask = data[0].str.contains('Project funding:')\n",
    "    if data[mask].empty:\n",
    "        funding = None\n",
    "    else:\n",
    "        funding = data[mask][1].values[0]\n",
    "    print(etunimi, sukunimi, funding)\n",
    "    print('='*10)\n",
    "    print()\n",
    "    "
   ]
  },
  {
   "cell_type": "code",
   "execution_count": null,
   "metadata": {},
   "outputs": [],
   "source": []
  },
  {
   "cell_type": "markdown",
   "metadata": {},
   "source": [
    "# List of researchers by the research field"
   ]
  },
  {
   "cell_type": "code",
   "execution_count": 5,
   "metadata": {},
   "outputs": [],
   "source": [
    "# research field\n",
    "tutkdi = 1170\n",
    "\n",
    "d = dict(AKA_REPORT)\n",
    "d['TULOSTE'] = 'EXL07'\n",
    "d['TUTKDI'] = tutkdi\n",
    "\n",
    "html, data = get_funding_info(d)"
   ]
  },
  {
   "cell_type": "code",
   "execution_count": 6,
   "metadata": {},
   "outputs": [
    {
     "data": {
      "text/plain": [
       "6"
      ]
     },
     "execution_count": 6,
     "metadata": {},
     "output_type": "execute_result"
    }
   ],
   "source": [
    "# index where the list starts\n",
    "idx = data[data.iloc[:,0] == 'Call'].index[0]\n",
    "idx"
   ]
  },
  {
   "cell_type": "code",
   "execution_count": 7,
   "metadata": {},
   "outputs": [
    {
     "data": {
      "text/html": [
       "<div>\n",
       "<style scoped>\n",
       "    .dataframe tbody tr th:only-of-type {\n",
       "        vertical-align: middle;\n",
       "    }\n",
       "\n",
       "    .dataframe tbody tr th {\n",
       "        vertical-align: top;\n",
       "    }\n",
       "\n",
       "    .dataframe thead th {\n",
       "        text-align: right;\n",
       "    }\n",
       "</style>\n",
       "<table border=\"1\" class=\"dataframe\">\n",
       "  <thead>\n",
       "    <tr style=\"text-align: right;\">\n",
       "      <th></th>\n",
       "      <th>index</th>\n",
       "      <th>value</th>\n",
       "    </tr>\n",
       "  </thead>\n",
       "  <tbody>\n",
       "    <tr>\n",
       "      <td>1</td>\n",
       "      <td>Year of decision:</td>\n",
       "      <td>2001-2020</td>\n",
       "    </tr>\n",
       "    <tr>\n",
       "      <td>2</td>\n",
       "      <td>Research field:</td>\n",
       "      <td>Computer science</td>\n",
       "    </tr>\n",
       "    <tr>\n",
       "      <td>3</td>\n",
       "      <td>Project count:</td>\n",
       "      <td>951</td>\n",
       "    </tr>\n",
       "    <tr>\n",
       "      <td>4</td>\n",
       "      <td>Project funding:</td>\n",
       "      <td>162 803 415 €</td>\n",
       "    </tr>\n",
       "  </tbody>\n",
       "</table>\n",
       "</div>"
      ],
      "text/plain": [
       "               index             value\n",
       "1  Year of decision:         2001-2020\n",
       "2    Research field:  Computer science\n",
       "3     Project count:               951\n",
       "4   Project funding:     162 803 415 €"
      ]
     },
     "execution_count": 7,
     "metadata": {},
     "output_type": "execute_result"
    }
   ],
   "source": [
    "# summary data\n",
    "header = data.iloc[:idx].iloc[1:5].dropna(axis=1, how='all')\n",
    "header.columns = ['index', 'value']\n",
    "header"
   ]
  },
  {
   "cell_type": "code",
   "execution_count": 8,
   "metadata": {},
   "outputs": [
    {
     "data": {
      "text/html": [
       "<div>\n",
       "<style scoped>\n",
       "    .dataframe tbody tr th:only-of-type {\n",
       "        vertical-align: middle;\n",
       "    }\n",
       "\n",
       "    .dataframe tbody tr th {\n",
       "        vertical-align: top;\n",
       "    }\n",
       "\n",
       "    .dataframe thead th {\n",
       "        text-align: right;\n",
       "    }\n",
       "</style>\n",
       "<table border=\"1\" class=\"dataframe\">\n",
       "  <thead>\n",
       "    <tr style=\"text-align: right;\">\n",
       "      <th></th>\n",
       "      <th>CALL</th>\n",
       "      <th>APPLICANT</th>\n",
       "      <th>ORGANISATION</th>\n",
       "      <th>PROJECT_TITLE</th>\n",
       "      <th>DECISION_NUM</th>\n",
       "      <th>DECISION_DATE</th>\n",
       "      <th>FUNDING_PERIOD</th>\n",
       "      <th>FUNDING</th>\n",
       "    </tr>\n",
       "  </thead>\n",
       "  <tbody>\n",
       "    <tr>\n",
       "      <td>7</td>\n",
       "      <td>Academy Project funding for early-career resea...</td>\n",
       "      <td>Järvisalo, Matti J</td>\n",
       "      <td>University of Helsinki</td>\n",
       "      <td>Declarative Boolean Optimization: Pushing the ...</td>\n",
       "      <td>322869</td>\n",
       "      <td>2019-06-11 00:00:00</td>\n",
       "      <td>01.09.2019 - 31.08.2023</td>\n",
       "      <td>600000</td>\n",
       "    </tr>\n",
       "    <tr>\n",
       "      <td>8</td>\n",
       "      <td>Academy Project funding for early-career resea...</td>\n",
       "      <td>Rahtu, Esa</td>\n",
       "      <td>Tampere University</td>\n",
       "      <td>Shallow models meet deep vision / Consortium: ...</td>\n",
       "      <td>324346</td>\n",
       "      <td>2019-06-11 00:00:00</td>\n",
       "      <td>01.09.2019 - 31.08.2023</td>\n",
       "      <td>399667</td>\n",
       "    </tr>\n",
       "    <tr>\n",
       "      <td>9</td>\n",
       "      <td>Academy Project funding for early-career resea...</td>\n",
       "      <td>Salmela, Leena</td>\n",
       "      <td>University of Helsinki</td>\n",
       "      <td>Flavours of de Bruijn graphs: from theory to p...</td>\n",
       "      <td>323233</td>\n",
       "      <td>2019-06-11 00:00:00</td>\n",
       "      <td>01.09.2019 - 31.08.2023</td>\n",
       "      <td>484112</td>\n",
       "    </tr>\n",
       "    <tr>\n",
       "      <td>10</td>\n",
       "      <td>Academy Project funding for early-career resea...</td>\n",
       "      <td>Solin, Arno</td>\n",
       "      <td>Aalto University</td>\n",
       "      <td>Shallow models meet deep vision / Consortium: ...</td>\n",
       "      <td>324345</td>\n",
       "      <td>2019-06-11 00:00:00</td>\n",
       "      <td>01.09.2019 - 31.08.2023</td>\n",
       "      <td>398712</td>\n",
       "    </tr>\n",
       "    <tr>\n",
       "      <td>11</td>\n",
       "      <td>Academy Project funding LT</td>\n",
       "      <td>Ginter, Filip</td>\n",
       "      <td>University of Turku</td>\n",
       "      <td>Universal Dependency Parser</td>\n",
       "      <td>297157</td>\n",
       "      <td>2016-06-10 00:00:00</td>\n",
       "      <td>01.09.2016 - 31.08.2020</td>\n",
       "      <td>345246</td>\n",
       "    </tr>\n",
       "  </tbody>\n",
       "</table>\n",
       "</div>"
      ],
      "text/plain": [
       "                                                 CALL           APPLICANT  \\\n",
       "7   Academy Project funding for early-career resea...  Järvisalo, Matti J   \n",
       "8   Academy Project funding for early-career resea...          Rahtu, Esa   \n",
       "9   Academy Project funding for early-career resea...      Salmela, Leena   \n",
       "10  Academy Project funding for early-career resea...         Solin, Arno   \n",
       "11                         Academy Project funding LT       Ginter, Filip   \n",
       "\n",
       "              ORGANISATION                                      PROJECT_TITLE  \\\n",
       "7   University of Helsinki  Declarative Boolean Optimization: Pushing the ...   \n",
       "8       Tampere University  Shallow models meet deep vision / Consortium: ...   \n",
       "9   University of Helsinki  Flavours of de Bruijn graphs: from theory to p...   \n",
       "10        Aalto University  Shallow models meet deep vision / Consortium: ...   \n",
       "11     University of Turku                        Universal Dependency Parser   \n",
       "\n",
       "   DECISION_NUM        DECISION_DATE           FUNDING_PERIOD FUNDING  \n",
       "7        322869  2019-06-11 00:00:00  01.09.2019 - 31.08.2023  600000  \n",
       "8        324346  2019-06-11 00:00:00  01.09.2019 - 31.08.2023  399667  \n",
       "9        323233  2019-06-11 00:00:00  01.09.2019 - 31.08.2023  484112  \n",
       "10       324345  2019-06-11 00:00:00  01.09.2019 - 31.08.2023  398712  \n",
       "11       297157  2016-06-10 00:00:00  01.09.2016 - 31.08.2020  345246  "
      ]
     },
     "execution_count": 8,
     "metadata": {},
     "output_type": "execute_result"
    }
   ],
   "source": [
    "# report data\n",
    "df = data.iloc[idx+1:].copy()\n",
    "cols = [\n",
    "    'CALL',\n",
    "    'APPLICANT',\n",
    "    'ORGANISATION',\n",
    "    'PROJECT_TITLE',\n",
    "    'DECISION_NUM',\n",
    "    'DECISION_DATE',\n",
    "    'FUNDING_PERIOD',\n",
    "    'FUNDING',\n",
    "]\n",
    "df.columns = cols\n",
    "df['ORGANISATION'] = df['ORGANISATION'].fillna('UNKNOWN')\n",
    "df.head()"
   ]
  },
  {
   "cell_type": "code",
   "execution_count": 9,
   "metadata": {},
   "outputs": [
    {
     "data": {
      "text/plain": [
       "(162803415, '162 803 415 €')"
      ]
     },
     "execution_count": 9,
     "metadata": {},
     "output_type": "execute_result"
    }
   ],
   "source": [
    "# How much funding?\n",
    "df.FUNDING.sum(), header.set_index('index').iloc[-1].values[0]"
   ]
  },
  {
   "cell_type": "code",
   "execution_count": 10,
   "metadata": {},
   "outputs": [
    {
     "name": "stdout",
     "output_type": "stream",
     "text": [
      "951\n"
     ]
    }
   ],
   "source": [
    "# How many projects?\n",
    "print(df.shape[0])"
   ]
  },
  {
   "cell_type": "code",
   "execution_count": 11,
   "metadata": {},
   "outputs": [
    {
     "name": "stdout",
     "output_type": "stream",
     "text": [
      "Organizations:  61\n"
     ]
    }
   ],
   "source": [
    "# How many projects / organisation?\n",
    "x = df.ORGANISATION.value_counts()\n",
    "# print(x.sum(), df.ORGANISATION.shape[0])\n",
    "print('Organizations: ', x.shape[0])\n"
   ]
  },
  {
   "cell_type": "code",
   "execution_count": 12,
   "metadata": {},
   "outputs": [
    {
     "name": "stdout",
     "output_type": "stream",
     "text": [
      "Researchers:  424\n"
     ]
    }
   ],
   "source": [
    "# How many researchers?\n",
    "x = df.APPLICANT.value_counts()\n",
    "# print(x.sum(), df.APPLICANT.shape[0])\n",
    "print('Researchers: ', x.shape[0])"
   ]
  },
  {
   "cell_type": "code",
   "execution_count": 13,
   "metadata": {},
   "outputs": [
    {
     "data": {
      "text/plain": [
       "APPLICANT\n",
       "Oja, Erkki           4721187\n",
       "Kaski, Kimmo         4571000\n",
       "Mäkelä, Kristiina    4130000\n",
       "Väänänen, Jouko      3311000\n",
       "Ukkonen, Esko J      2848000\n",
       "Back, Ralph-Johan    2575996\n",
       "Kaski, Samuel        2491615\n",
       "Tarkoma, Sasu        2415906\n",
       "Zhao, Guoying        2396892\n",
       "Mannila, Heikki      2186830\n",
       "Name: FUNDING, dtype: int64"
      ]
     },
     "execution_count": 13,
     "metadata": {},
     "output_type": "execute_result"
    }
   ],
   "source": [
    "# list of researchers\n",
    "researchers = df.groupby('APPLICANT').apply(lambda x: x.FUNDING.sum())\n",
    "researchers.name = 'FUNDING'\n",
    "\n",
    "# Top 10\n",
    "researchers = researchers.sort_values(ascending=False)\n",
    "researchers[:10]"
   ]
  },
  {
   "cell_type": "code",
   "execution_count": null,
   "metadata": {},
   "outputs": [],
   "source": []
  },
  {
   "cell_type": "markdown",
   "metadata": {},
   "source": [
    "# Google citations"
   ]
  },
  {
   "cell_type": "code",
   "execution_count": 14,
   "metadata": {},
   "outputs": [],
   "source": [
    "from scholarly import scholarly\n",
    "\n",
    "def get_google_citations(researchers):\n",
    "    # container to hold citations\n",
    "    citeby = np.array([np.nan] * researchers.shape[0])\n",
    "    \n",
    "    # loop over the series\n",
    "    for i, name in enumerate(researchers):\n",
    "        author = name.split(',')[::-1]\n",
    "        author = ' '.join(author).strip()\n",
    "        # citations are unknown\n",
    "        citations = citeby[i]\n",
    "        try:\n",
    "            # search for this author\n",
    "            data = next(scholarly.search_author(author))\n",
    "\n",
    "            # if indeed this author, update citations\n",
    "            if data.name == author: \n",
    "                citations = data.citedby\n",
    "                \n",
    "            else:\n",
    "                continue\n",
    "        except:\n",
    "            continue\n",
    "\n",
    "        # update list\n",
    "        citeby[i] = citations\n",
    "        \n",
    "    return citeby\n"
   ]
  },
  {
   "cell_type": "code",
   "execution_count": 15,
   "metadata": {},
   "outputs": [
    {
     "name": "stdout",
     "output_type": "stream",
     "text": [
      "179.44699382781982\n"
     ]
    }
   ],
   "source": [
    "# number of citations on google scholar\n",
    "import time\n",
    "t0 = time.time()\n",
    "citeby = get_google_citations(researchers.index.values[:50])\n",
    "t = time.time()\n",
    "print(t-t0)"
   ]
  },
  {
   "cell_type": "code",
   "execution_count": 16,
   "metadata": {},
   "outputs": [
    {
     "data": {
      "text/plain": [
       "(31, 50)"
      ]
     },
     "execution_count": 16,
     "metadata": {},
     "output_type": "execute_result"
    }
   ],
   "source": [
    "# How many researchers with citations?\n",
    "pd.Series(citeby).dropna().shape[0], len(citeby)"
   ]
  },
  {
   "cell_type": "code",
   "execution_count": 17,
   "metadata": {},
   "outputs": [
    {
     "data": {
      "text/html": [
       "<div>\n",
       "<style scoped>\n",
       "    .dataframe tbody tr th:only-of-type {\n",
       "        vertical-align: middle;\n",
       "    }\n",
       "\n",
       "    .dataframe tbody tr th {\n",
       "        vertical-align: top;\n",
       "    }\n",
       "\n",
       "    .dataframe thead th {\n",
       "        text-align: right;\n",
       "    }\n",
       "</style>\n",
       "<table border=\"1\" class=\"dataframe\">\n",
       "  <thead>\n",
       "    <tr style=\"text-align: right;\">\n",
       "      <th></th>\n",
       "      <th>APPLICANT</th>\n",
       "      <th>FUNDING</th>\n",
       "      <th>CITEBY</th>\n",
       "    </tr>\n",
       "  </thead>\n",
       "  <tbody>\n",
       "    <tr>\n",
       "      <td>0</td>\n",
       "      <td>Oja, Erkki</td>\n",
       "      <td>4721187</td>\n",
       "      <td>62647.0</td>\n",
       "    </tr>\n",
       "    <tr>\n",
       "      <td>1</td>\n",
       "      <td>Kaski, Kimmo</td>\n",
       "      <td>4571000</td>\n",
       "      <td>18521.0</td>\n",
       "    </tr>\n",
       "    <tr>\n",
       "      <td>2</td>\n",
       "      <td>Mäkelä, Kristiina</td>\n",
       "      <td>4130000</td>\n",
       "      <td>3067.0</td>\n",
       "    </tr>\n",
       "    <tr>\n",
       "      <td>3</td>\n",
       "      <td>Väänänen, Jouko</td>\n",
       "      <td>3311000</td>\n",
       "      <td>2813.0</td>\n",
       "    </tr>\n",
       "    <tr>\n",
       "      <td>4</td>\n",
       "      <td>Ukkonen, Esko J</td>\n",
       "      <td>2848000</td>\n",
       "      <td>NaN</td>\n",
       "    </tr>\n",
       "    <tr>\n",
       "      <td>...</td>\n",
       "      <td>...</td>\n",
       "      <td>...</td>\n",
       "      <td>...</td>\n",
       "    </tr>\n",
       "    <tr>\n",
       "      <td>419</td>\n",
       "      <td>Burmakin, Eugene</td>\n",
       "      <td>690</td>\n",
       "      <td>NaN</td>\n",
       "    </tr>\n",
       "    <tr>\n",
       "      <td>420</td>\n",
       "      <td>Stepien, Robert</td>\n",
       "      <td>650</td>\n",
       "      <td>NaN</td>\n",
       "    </tr>\n",
       "    <tr>\n",
       "      <td>421</td>\n",
       "      <td>Kangas, Kalle</td>\n",
       "      <td>540</td>\n",
       "      <td>NaN</td>\n",
       "    </tr>\n",
       "    <tr>\n",
       "      <td>422</td>\n",
       "      <td>Talvitie, Topi</td>\n",
       "      <td>0</td>\n",
       "      <td>NaN</td>\n",
       "    </tr>\n",
       "    <tr>\n",
       "      <td>423</td>\n",
       "      <td>Lepistö, Leena</td>\n",
       "      <td>0</td>\n",
       "      <td>NaN</td>\n",
       "    </tr>\n",
       "  </tbody>\n",
       "</table>\n",
       "<p>424 rows × 3 columns</p>\n",
       "</div>"
      ],
      "text/plain": [
       "             APPLICANT  FUNDING   CITEBY\n",
       "0           Oja, Erkki  4721187  62647.0\n",
       "1         Kaski, Kimmo  4571000  18521.0\n",
       "2    Mäkelä, Kristiina  4130000   3067.0\n",
       "3      Väänänen, Jouko  3311000   2813.0\n",
       "4      Ukkonen, Esko J  2848000      NaN\n",
       "..                 ...      ...      ...\n",
       "419   Burmakin, Eugene      690      NaN\n",
       "420    Stepien, Robert      650      NaN\n",
       "421      Kangas, Kalle      540      NaN\n",
       "422     Talvitie, Topi        0      NaN\n",
       "423     Lepistö, Leena        0      NaN\n",
       "\n",
       "[424 rows x 3 columns]"
      ]
     },
     "execution_count": 17,
     "metadata": {},
     "output_type": "execute_result"
    }
   ],
   "source": [
    "B = researchers.reset_index()\n",
    "B['CITEBY'] = pd.Series(citeby)\n",
    "B"
   ]
  },
  {
   "cell_type": "code",
   "execution_count": null,
   "metadata": {},
   "outputs": [],
   "source": []
  },
  {
   "cell_type": "code",
   "execution_count": 18,
   "metadata": {},
   "outputs": [
    {
     "data": {
      "text/plain": [
       "<matplotlib.axes._subplots.AxesSubplot at 0x1ecee5d9b48>"
      ]
     },
     "execution_count": 18,
     "metadata": {},
     "output_type": "execute_result"
    },
    {
     "data": {
      "image/png": "[encoded data removed]",
      "text/plain": [
       "<Figure size 864x864 with 1 Axes>"
      ]
     },
     "metadata": {
      "needs_background": "light"
     },
     "output_type": "display_data"
    }
   ],
   "source": [
    "# the scatter plot\n",
    "fig, ax = plt.subplots(figsize=(12,12))\n",
    "B.plot(ax=ax, kind='scatter', x='FUNDING', y='CITEBY')"
   ]
  },
  {
   "cell_type": "code",
   "execution_count": null,
   "metadata": {},
   "outputs": [],
   "source": []
  }
 ],
 "metadata": {
  "kernelspec": {
   "display_name": "Python 3",
   "language": "python",
   "name": "python3"
  },
  "language_info": {
   "codemirror_mode": {
    "name": "ipython",
    "version": 3
   },
   "file_extension": ".py",
   "mimetype": "text/x-python",
   "name": "python",
   "nbconvert_exporter": "python",
   "pygments_lexer": "ipython3",
   "version": "3.7.4"
  }
 },
 "nbformat": 4,
 "nbformat_minor": 4
}
