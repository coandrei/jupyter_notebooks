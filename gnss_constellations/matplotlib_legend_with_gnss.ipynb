{
 "cells": [
  {
   "cell_type": "code",
   "execution_count": null,
   "metadata": {},
   "outputs": [],
   "source": [
    "# This notebook uses GNSS to demonstrate how the legend may be placed\n",
    "# (1) outside the figure\n",
    "# (2) inside the figure\n",
    "# being inspired by the new matplotlib cheetsheet graphics\n",
    "#\n",
    "# https://github.com/matplotlib/cheatsheets\n",
    "#"
   ]
  },
  {
   "cell_type": "code",
   "execution_count": null,
   "metadata": {},
   "outputs": [],
   "source": [
    "import matplotlib.pyplot as plt\n",
    "import matplotlib as mpl"
   ]
  },
  {
   "cell_type": "code",
   "execution_count": null,
   "metadata": {},
   "outputs": [],
   "source": [
    "colors = list(mpl.colors.TABLEAU_COLORS.values())[:6]\n",
    "labels = ['GPS', 'GLONASS', 'Galileo', 'BeiDou', 'QZSS', 'NavIC']\n",
    "markers = [\"p\", \"D\", \"o\", \"s\", \"h\", \"x\"]"
   ]
  },
  {
   "cell_type": "code",
   "execution_count": null,
   "metadata": {},
   "outputs": [],
   "source": [
    "for i, (color, marker, label) in enumerate(zip(colors, markers, labels)):\n",
    "    plt.plot(i,i, c=color, marker=marker, label=label, ls='None')\n",
    "    \n",
    "h, l = plt.gca().get_legend_handles_labels()"
   ]
  },
  {
   "cell_type": "code",
   "execution_count": null,
   "metadata": {},
   "outputs": [],
   "source": [
    "fig, ax = plt.subplots(1,2, figsize=(8,4))\n",
    "\n",
    "ax[0].legend(handles=h, labels=l, bbox_to_anchor=(-.1,1))\n",
    "ax[1].legend(handles=h, labels=l, loc='upper right')"
   ]
  },
  {
   "cell_type": "code",
   "execution_count": null,
   "metadata": {
    "scrolled": true
   },
   "outputs": [],
   "source": [
    "fig, ax = plt.subplots(1,1, figsize=(4,4))\n",
    "\n",
    "#ax.legend(handles=h, labels=l, loc='upper right', bbox_to_anchor=(.9,-.1))\n",
    "#ax.legend(handles=h, labels=l, loc='upper right', bbox_to_anchor=(-.1,.9))\n",
    "#ax.legend(handles=h, labels=l, loc='right', bbox_to_anchor=(-.1,.5))\n",
    "ax.legend(handles=h, labels=l, loc='lower right', bbox_to_anchor=(-.1,1))"
   ]
  },
  {
   "cell_type": "markdown",
   "metadata": {},
   "source": [
    "## Outside the figure"
   ]
  },
  {
   "cell_type": "code",
   "execution_count": null,
   "metadata": {
    "scrolled": false
   },
   "outputs": [],
   "source": [
    "# matplotlib style\n",
    "# \n",
    "\n",
    "for i, (ch, loc, x, y) in enumerate([\n",
    "    ('A', 'upper right', -.1, .9),\n",
    "    ('B', 'right', -.1, .5),\n",
    "    ('C', 'lower right', -.1, .1),\n",
    "    ('D', 'upper left', .1, -.1),\n",
    "    ('E', 'upper center', .5, -.1),\n",
    "    ('F', 'upper right', .9, -.1),\n",
    "    ('G', 'lower left', 1.1, .1),\n",
    "    ('H', 'center left', 1.1, .5),\n",
    "    ('I', 'upper left', 1.1, .9),\n",
    "    ('J', 'lower right', .9, 1.1),\n",
    "    ('K', 'lower center', .5, 1.1),\n",
    "    ('L', 'lower left', .1, 1.1),\n",
    "]):\n",
    "    fig, ax = plt.subplots(figsize=(4,4))\n",
    "    ax.legend(handles=h, labels=l, loc=loc, bbox_to_anchor=(x,y))\n",
    "    title = f'{ch}: {loc} / ({x},{y})'\n",
    "    ax.set_title(title)\n",
    "    ax.get_figure().savefig(f'{i}.png', dpi=300, bbox_inches='tight')\n",
    "    \n",
    "#fig.tight_layout()"
   ]
  },
  {
   "cell_type": "code",
   "execution_count": null,
   "metadata": {},
   "outputs": [],
   "source": [
    "# Octavian style\n",
    "for i, (ch, loc, x, y) in enumerate([\n",
    "    ('A', 'upper right', -.1, 1),\n",
    "    ('B', 'right', -.1, .5),\n",
    "    ('C', 'lower right', -.1, 0),\n",
    "    ('D', 'upper left', 0, -.1),\n",
    "    ('E', 'upper center', .5, -.1),\n",
    "    ('F', 'upper right', 1, -.1),\n",
    "    ('G', 'lower left', 1.1, 0),\n",
    "    ('H', 'center left', 1.1, .5),\n",
    "    ('I', 'upper left', 1.1, 1),\n",
    "    ('J', 'lower right', 1, 1.1),\n",
    "    ('K', 'lower center', .5, 1.1),\n",
    "    ('L', 'lower left', 0, 1.1),\n",
    "]):\n",
    "    fig, ax = plt.subplots(figsize=(4,4))\n",
    "    ax.legend(handles=h, labels=l, loc=loc, bbox_to_anchor=(x,y))\n",
    "    title = f'{ch}: {loc} / ({x},{y})'\n",
    "    ax.set_title(title)\n",
    "    ax.get_figure().savefig(f'{i}.png', dpi=300, bbox_inches='tight')\n"
   ]
  },
  {
   "cell_type": "code",
   "execution_count": null,
   "metadata": {},
   "outputs": [],
   "source": []
  },
  {
   "cell_type": "markdown",
   "metadata": {},
   "source": [
    "## Inside the figure"
   ]
  },
  {
   "cell_type": "code",
   "execution_count": null,
   "metadata": {},
   "outputs": [],
   "source": [
    "for k, v in {\n",
    "    'best':            0,\n",
    "    'upper right':     1,\n",
    "    'upper left':      2,\n",
    "    'lower left':      3,\n",
    "    'lower right':     4,\n",
    "    'right':           5,\n",
    "    'center left':     6,\n",
    "    'center right':    7,\n",
    "    'lower center':    8,\n",
    "    'upper center':    9,\n",
    "    'center':          10,\n",
    "}.items():\n",
    "    fig, ax = plt.subplots(figsize=(4,4))\n",
    "    ax.legend(handles=h, labels=l, loc=v)\n",
    "    title = f'loc=\\'{k}\\' / (loc={v})'\n",
    "    ax.set_title(title)\n",
    "    ax.get_figure().savefig(f'{v}.png', dpi=300, bbox_inches='tight')\n",
    "    \n",
    "#fig.tight_layout()"
   ]
  },
  {
   "cell_type": "code",
   "execution_count": null,
   "metadata": {},
   "outputs": [],
   "source": []
  }
 ],
 "metadata": {
  "kernelspec": {
   "display_name": "Python 3",
   "language": "python",
   "name": "python3"
  },
  "language_info": {
   "codemirror_mode": {
    "name": "ipython",
    "version": 3
   },
   "file_extension": ".py",
   "mimetype": "text/x-python",
   "name": "python",
   "nbconvert_exporter": "python",
   "pygments_lexer": "ipython3",
   "version": "3.7.6"
  }
 },
 "nbformat": 4,
 "nbformat_minor": 4
}
