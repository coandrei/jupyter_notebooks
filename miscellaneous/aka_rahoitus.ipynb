{
 "cells": [
  {
   "cell_type": "code",
   "execution_count": 1,
   "metadata": {},
   "outputs": [],
   "source": [
    "# This notebook searches the AKA database for how much funding\n",
    "# one researcher has received during 2001 - 2020\n",
    "#\n",
    "# Octavian Andrei, 2020"
   ]
  },
  {
   "cell_type": "code",
   "execution_count": 2,
   "metadata": {},
   "outputs": [],
   "source": [
    "import pandas as pd"
   ]
  },
  {
   "cell_type": "code",
   "execution_count": 3,
   "metadata": {},
   "outputs": [],
   "source": [
    "# customized functions\n",
    "# default\n",
    "AKA_REPORT = {\n",
    "    'ekaLataus': 0,\n",
    "    'IBIF_ex' : 'x_RahPaatYht_report2',\n",
    "    'UILANG': 'en',\n",
    "    'SANAHAKU': '',\n",
    "    'ETUNIMI': '',\n",
    "    'SUKUNIMI': '',\n",
    "    'SUKUPUOLI': 'FOC_NONE',\n",
    "    'HAKU': 'FOC_NONE',\n",
    "    'ORGANIS': 'FOC_NONE',\n",
    "    'TUTKDI': 'FOC_NONE',\n",
    "    'TMK': '',\n",
    "    'PAATVUOSI_A': 2001,\n",
    "    'PAATVUOSI_L': 2020,\n",
    "    'LAJITTELU': 'PAATOS',\n",
    "    'TULOSTE': 'HTML',\n",
    "}\n",
    "\n",
    "def get_html(**kwargs):\n",
    "    # base url\n",
    "    url = 'https://akareport.aka.fi/ibi_apps/WFServlet?'\n",
    "    # add the query\n",
    "    url +='&'.join(['{}={}'.format(k,v) for k,v in kwargs.items()])\n",
    "    \n",
    "    return url\n",
    "\n",
    "def get_funding_info(etunimi, sukunimi):\n",
    "    # make a copy of the template\n",
    "    import copy\n",
    "    d = copy.deepcopy(AKA_REPORT)\n",
    "    \n",
    "    # customize \n",
    "    d['ETUNIMI'] = etunimi\n",
    "    d['SUKUNIMI'] = sukunimi\n",
    "    \n",
    "    # fetch the report\n",
    "    html = get_html(**d)\n",
    "    #print(html)\n",
    "    \n",
    "    # data frame with the funding decisions\n",
    "    try:\n",
    "        data = pd.read_html(html, encoding='utf-8')[0]\\\n",
    "                 .dropna(axis=0, how='all')\\\n",
    "                 .reset_index(drop=True)\n",
    "    except UnicodeEncodeError:\n",
    "        #print('UnicodeEncodeError')\n",
    "        data = None\n",
    "\n",
    "    return html, data"
   ]
  },
  {
   "cell_type": "code",
   "execution_count": 4,
   "metadata": {},
   "outputs": [
    {
     "name": "stdout",
     "output_type": "stream",
     "text": [
      "https://akareport.aka.fi/ibi_apps/WFServlet?ekaLataus=0&IBIF_ex=x_RahPaatYht_report2&UILANG=en&SANAHAKU=&ETUNIMI=Antti&SUKUNIMI=Ylä-Jääski&SUKUPUOLI=FOC_NONE&HAKU=FOC_NONE&ORGANIS=FOC_NONE&TUTKDI=FOC_NONE&TMK=&PAATVUOSI_A=2001&PAATVUOSI_L=2020&LAJITTELU=PAATOS&TULOSTE=HTML\n",
      "Antti Ylä-Jääski Unable to read html\n",
      "https://akareport.aka.fi/ibi_apps/WFServlet?ekaLataus=0&IBIF_ex=x_RahPaatYht_report2&UILANG=en&SANAHAKU=&ETUNIMI=Markus&SUKUNIMI=Kirjonen&SUKUPUOLI=FOC_NONE&HAKU=FOC_NONE&ORGANIS=FOC_NONE&TUTKDI=FOC_NONE&TMK=&PAATVUOSI_A=2001&PAATVUOSI_L=2020&LAJITTELU=PAATOS&TULOSTE=HTML\n",
      "Markus Kirjonen None\n",
      "https://akareport.aka.fi/ibi_apps/WFServlet?ekaLataus=0&IBIF_ex=x_RahPaatYht_report2&UILANG=en&SANAHAKU=&ETUNIMI=Samuel&SUKUNIMI=Kaski&SUKUPUOLI=FOC_NONE&HAKU=FOC_NONE&ORGANIS=FOC_NONE&TUTKDI=FOC_NONE&TMK=&PAATVUOSI_A=2001&PAATVUOSI_L=2020&LAJITTELU=PAATOS&TULOSTE=HTML\n",
      "Samuel Kaski 8 901 901 €\n",
      "https://akareport.aka.fi/ibi_apps/WFServlet?ekaLataus=0&IBIF_ex=x_RahPaatYht_report2&UILANG=en&SANAHAKU=&ETUNIMI=Tapio&SUKUNIMI=Takala&SUKUPUOLI=FOC_NONE&HAKU=FOC_NONE&ORGANIS=FOC_NONE&TUTKDI=FOC_NONE&TMK=&PAATVUOSI_A=2001&PAATVUOSI_L=2020&LAJITTELU=PAATOS&TULOSTE=HTML\n",
      "Tapio Takala 741 922 €\n",
      "https://akareport.aka.fi/ibi_apps/WFServlet?ekaLataus=0&IBIF_ex=x_RahPaatYht_report2&UILANG=en&SANAHAKU=&ETUNIMI=Alexander&SUKUNIMI=Jung&SUKUPUOLI=FOC_NONE&HAKU=FOC_NONE&ORGANIS=FOC_NONE&TUTKDI=FOC_NONE&TMK=&PAATVUOSI_A=2001&PAATVUOSI_L=2020&LAJITTELU=PAATOS&TULOSTE=HTML\n",
      "Alexander Jung None\n",
      "https://akareport.aka.fi/ibi_apps/WFServlet?ekaLataus=0&IBIF_ex=x_RahPaatYht_report2&UILANG=en&SANAHAKU=&ETUNIMI=Kaisa&SUKUNIMI=Nyberg&SUKUPUOLI=FOC_NONE&HAKU=FOC_NONE&ORGANIS=FOC_NONE&TUTKDI=FOC_NONE&TMK=&PAATVUOSI_A=2001&PAATVUOSI_L=2020&LAJITTELU=PAATOS&TULOSTE=HTML\n",
      "Kaisa Nyberg 664 957 €\n"
     ]
    }
   ],
   "source": [
    "researchers = (\n",
    "    ('Antti', 'Ylä-Jääski'),\n",
    "    ('Markus', 'Kirjonen'),\n",
    "    ('Samuel', 'Kaski'),\n",
    "    ('Tapio', 'Takala'),\n",
    "    ('Alexander', 'Jung'),\n",
    "    ('Kaisa', 'Nyberg'),\n",
    "    \n",
    "    \n",
    "     \n",
    ")\n",
    "\n",
    "for researcher in researchers:\n",
    "    etunimi, sukunimi = researcher\n",
    "    html, data = get_funding_info(etunimi, sukunimi)\n",
    "    print(html)\n",
    "    if data is None:\n",
    "        print(etunimi, sukunimi, 'Unable to read html')\n",
    "        continue\n",
    "    \n",
    "    mask = data[0].str.contains('Project funding:')\n",
    "    if data[mask].empty:\n",
    "        funding = None\n",
    "    else:\n",
    "        funding = data[mask][1].values[0]\n",
    "    print(etunimi, sukunimi, funding)"
   ]
  },
  {
   "cell_type": "code",
   "execution_count": null,
   "metadata": {},
   "outputs": [],
   "source": []
  },
  {
   "cell_type": "code",
   "execution_count": null,
   "metadata": {},
   "outputs": [],
   "source": []
  },
  {
   "cell_type": "code",
   "execution_count": null,
   "metadata": {},
   "outputs": [],
   "source": []
  },
  {
   "cell_type": "code",
   "execution_count": null,
   "metadata": {},
   "outputs": [],
   "source": []
  }
 ],
 "metadata": {
  "kernelspec": {
   "display_name": "Python 3",
   "language": "python",
   "name": "python3"
  },
  "language_info": {
   "codemirror_mode": {
    "name": "ipython",
    "version": 3
   },
   "file_extension": ".py",
   "mimetype": "text/x-python",
   "name": "python",
   "nbconvert_exporter": "python",
   "pygments_lexer": "ipython3",
   "version": "3.7.4"
  }
 },
 "nbformat": 4,
 "nbformat_minor": 4
}
