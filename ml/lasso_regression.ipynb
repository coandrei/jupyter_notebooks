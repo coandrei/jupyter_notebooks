{
 "cells": [
  {
   "cell_type": "code",
   "execution_count": 1,
   "metadata": {},
   "outputs": [],
   "source": [
    "# This notebook explores the linear regression using Lasso regularization\n",
    "# https://scikit-learn.org/stable/modules/generated/sklearn.linear_model.Lasso.html\n",
    "# \n",
    "# We use California housing dataset."
   ]
  },
  {
   "cell_type": "code",
   "execution_count": null,
   "metadata": {},
   "outputs": [],
   "source": []
  },
  {
   "cell_type": "code",
   "execution_count": 2,
   "metadata": {},
   "outputs": [],
   "source": [
    "# import external libraies\n",
    "%matplotlib inline\n",
    "\n",
    "import numpy as np\n",
    "from sklearn import datasets, __version__\n",
    "from sklearn.model_selection import train_test_split\n",
    "from sklearn.linear_model import LinearRegression, Ridge, Lasso, ElasticNet\n",
    "from sklearn.metrics import mean_squared_error\n",
    "from sklearn.preprocessing import StandardScaler, PolynomialFeatures\n",
    "from sklearn.pipeline import Pipeline\n",
    "import pandas as pd\n",
    "\n",
    "import matplotlib.pyplot as plt\n",
    "import seaborn as sns\n",
    "sns.set()"
   ]
  },
  {
   "cell_type": "code",
   "execution_count": null,
   "metadata": {},
   "outputs": [],
   "source": []
  },
  {
   "cell_type": "code",
   "execution_count": 3,
   "metadata": {},
   "outputs": [],
   "source": [
    "# import dataset\n",
    "CAL = datasets.fetch_california_housing()"
   ]
  },
  {
   "cell_type": "code",
   "execution_count": 4,
   "metadata": {},
   "outputs": [
    {
     "name": "stdout",
     "output_type": "stream",
     "text": [
      ".. _california_housing_dataset:\n",
      "\n",
      "California Housing dataset\n",
      "--------------------------\n",
      "\n",
      "**Data Set Characteristics:**\n",
      "\n",
      "    :Number of Instances: 20640\n",
      "\n",
      "    :Number of Attributes: 8 numeric, predictive attributes and the target\n",
      "\n",
      "    :Attribute Information:\n",
      "        - MedInc        median income in block\n",
      "        - HouseAge      median house age in block\n",
      "        - AveRooms      average number of rooms\n",
      "        - AveBedrms     average number of bedrooms\n",
      "        - Population    block population\n",
      "        - AveOccup      average house occupancy\n",
      "        - Latitude      house block latitude\n",
      "        - Longitude     house block longitude\n",
      "\n",
      "    :Missing Attribute Values: None\n",
      "\n",
      "This dataset was obtained from the StatLib repository.\n",
      "http://lib.stat.cmu.edu/datasets/\n",
      "\n",
      "The target variable is the median house value for California districts.\n",
      "\n",
      "This dataset was derived from the 1990 U.S. census, using one row per census\n",
      "block group. A block group is the smallest geographical unit for which the U.S.\n",
      "Census Bureau publishes sample data (a block group typically has a population\n",
      "of 600 to 3,000 people).\n",
      "\n",
      "It can be downloaded/loaded using the\n",
      ":func:`sklearn.datasets.fetch_california_housing` function.\n",
      "\n",
      ".. topic:: References\n",
      "\n",
      "    - Pace, R. Kelley and Ronald Barry, Sparse Spatial Autoregressions,\n",
      "      Statistics and Probability Letters, 33 (1997) 291-297\n",
      "\n"
     ]
    }
   ],
   "source": [
    "# description\n",
    "print(CAL['DESCR'])"
   ]
  },
  {
   "cell_type": "code",
   "execution_count": null,
   "metadata": {},
   "outputs": [],
   "source": [
    "# let's plot each feature vs. labelled data\n",
    "plt.figure(figsize=(15,10))\n",
    "for i in range(8):\n",
    "    plt.subplot(4,2,i+1)\n",
    "    plt.scatter(CAL.data[:,i], CAL.target, s=2, label=CAL.feature_names[i])\n",
    "    plt.legend(loc='best')"
   ]
  },
  {
   "cell_type": "code",
   "execution_count": null,
   "metadata": {},
   "outputs": [],
   "source": [
    "# split the dataset into training and testing\n",
    "X_train, X_test, y_train, y_test = train_test_split(CAL.data, CAL.target, test_size=5000, shuffle=True)\n",
    "\n",
    "X_train.shape, X_test.shape, y_train.shape, y_test.shape"
   ]
  },
  {
   "cell_type": "code",
   "execution_count": null,
   "metadata": {},
   "outputs": [],
   "source": []
  },
  {
   "cell_type": "code",
   "execution_count": null,
   "metadata": {},
   "outputs": [],
   "source": [
    "# function to carry out Lasso Regression\n",
    "def doLassoRegression(Xtrain, ytrain, Xval, yval, alpha=1e3):\n",
    "    \n",
    "    lasso_reg = Lasso(alpha)\n",
    "    lasso_reg.fit(Xtrain, ytrain)\n",
    "    print('coefficients:', lasso_reg.coef_)\n",
    "    print('intercept:', lasso_reg.intercept_)\n",
    "\n",
    "    predictions = lasso_reg.predict(Xval)\n",
    "    print(\"Mean squared error: %.3f\" % mean_squared_error(yval, predictions))\n",
    "    \n",
    "    pass\n",
    "\n",
    "\n",
    "# do the regression for each feature \n",
    "for i, name in enumerate(CAL.feature_names):\n",
    "    print(i, name)\n",
    "    Xtrain = X_train[:,i].reshape(-1,1)\n",
    "    ytrain = y_train\n",
    "    \n",
    "    Xval = X_test[:,i].reshape(-1,1)\n",
    "    yval = y_test\n",
    "\n",
    "    scaler = StandardScaler().fit(Xtrain)\n",
    "    Xtrain = scaler.transform(Xtrain)\n",
    "    Xval = scaler.transform(Xval)\n",
    "    \n",
    "    doLassoRegression(Xtrain, ytrain, Xval, yval)\n",
    "    \n",
    "    print('=====')\n",
    "    print()"
   ]
  },
  {
   "cell_type": "code",
   "execution_count": null,
   "metadata": {},
   "outputs": [],
   "source": [
    "# Multiple features\n",
    "for i, name in enumerate(CAL.feature_names):\n",
    "    j = i + 1\n",
    "    print(i, CAL.feature_names[:j])\n",
    "    \n",
    "    Xtrain = X_train[:,:j].reshape(-1,j)\n",
    "    ytrain = y_train\n",
    "    \n",
    "    Xval = X_test[:,:j].reshape(-1,j)\n",
    "    yval = y_test\n",
    "\n",
    "    scaler = StandardScaler().fit(Xtrain)\n",
    "    Xtrain = scaler.transform(Xtrain)\n",
    "    Xval = scaler.transform(Xval)\n",
    "    \n",
    "    doLassoRegression(Xtrain, ytrain, Xval, yval)\n",
    "    \n",
    "    print('=====')\n",
    "    print()"
   ]
  },
  {
   "cell_type": "code",
   "execution_count": null,
   "metadata": {},
   "outputs": [],
   "source": []
  }
 ],
 "metadata": {
  "kernelspec": {
   "display_name": "Python 3",
   "language": "python",
   "name": "python3"
  },
  "language_info": {
   "codemirror_mode": {
    "name": "ipython",
    "version": 3
   },
   "file_extension": ".py",
   "mimetype": "text/x-python",
   "name": "python",
   "nbconvert_exporter": "python",
   "pygments_lexer": "ipython3",
   "version": "3.7.6"
  }
 },
 "nbformat": 4,
 "nbformat_minor": 4
}
